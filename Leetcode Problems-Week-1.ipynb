{
 "cells": [
  {
   "cell_type": "markdown",
   "id": "a2edc917",
   "metadata": {},
   "source": [
    "# 1 Length of Last Word\n"
   ]
  },
  {
   "cell_type": "markdown",
   "id": "d58bd3be",
   "metadata": {},
   "source": [
    "Given a string s consisting of words and spaces, return the length of the last word in the string.\n",
    "\n",
    "A word is a maximal \n",
    "substring\n",
    " consisting of non-space characters only."
   ]
  },
  {
   "cell_type": "code",
   "execution_count": 3,
   "id": "f64441eb",
   "metadata": {},
   "outputs": [
    {
     "name": "stdout",
     "output_type": "stream",
     "text": [
      "5\n"
     ]
    }
   ],
   "source": [
    "def length_of_last_word(s):\n",
    "    words = s.split()\n",
    "    return len(words[-1]) if words else 0\n",
    "\n",
    "\n",
    "string = \"Hello World\"\n",
    "length = length_of_last_word(string)\n",
    "print(length)  "
   ]
  },
  {
   "cell_type": "code",
   "execution_count": 2,
   "id": "8c929b05",
   "metadata": {},
   "outputs": [
    {
     "name": "stdout",
     "output_type": "stream",
     "text": [
      "Enter string:python programming\n",
      "11\n"
     ]
    }
   ],
   "source": [
    "def length_of_last_word(s):\n",
    "    words = s.split()\n",
    "    return len(words[-1]) if words else 0\n",
    "\n",
    "\n",
    "string = str(input(\"Enter string:\"))\n",
    "length = length_of_last_word(string)\n",
    "print(length) "
   ]
  },
  {
   "cell_type": "markdown",
   "id": "5f63bfec",
   "metadata": {},
   "source": [
    "# 2 Find the Index of the First Occurrence in a String\n"
   ]
  },
  {
   "cell_type": "markdown",
   "id": "a8382fca",
   "metadata": {},
   "source": [
    "Given two strings needle and haystack, return the index of the first occurrence of needle in haystack, or -1 if needle is not part of haystack.\n",
    "\n",
    " "
   ]
  },
  {
   "cell_type": "code",
   "execution_count": 5,
   "id": "6d867f40",
   "metadata": {},
   "outputs": [
    {
     "name": "stdout",
     "output_type": "stream",
     "text": [
      "4\n"
     ]
    }
   ],
   "source": [
    "def find_index(string, word):\n",
    "    index = string.find(word)\n",
    "    return index\n",
    "\n",
    "string = \"the dude is a cool dude\"\n",
    "word = 'dude'\n",
    "print(find_index(string, word))\n"
   ]
  },
  {
   "cell_type": "markdown",
   "id": "32d08825",
   "metadata": {},
   "source": [
    "# 3 Plus One"
   ]
  },
  {
   "cell_type": "markdown",
   "id": "906fe134",
   "metadata": {},
   "source": [
    "You are given a large integer represented as an integer array digits, where each digits[i] is the ith digit of the integer. The digits are ordered from most significant to least significant in left-to-right order. The large integer does not contain any leading 0's.\n",
    "\n",
    "Increment the large integer by one and return the resulting array of digits."
   ]
  },
  {
   "cell_type": "code",
   "execution_count": 6,
   "id": "a7cf0afa",
   "metadata": {},
   "outputs": [
    {
     "name": "stdout",
     "output_type": "stream",
     "text": [
      "[1, 3, 0]\n"
     ]
    }
   ],
   "source": [
    "def plusOne(digits):\n",
    "    n = len(digits)\n",
    "    carry = 1\n",
    "\n",
    "    for i in range(n - 1, -1, -1):\n",
    "        digit_sum = digits[i] + carry\n",
    "        digits[i] = digit_sum % 10\n",
    "        carry = digit_sum // 10\n",
    "\n",
    "    if carry:\n",
    "        digits.insert(0, carry)\n",
    "\n",
    "    return digits\n",
    "\n",
    "digits = [1, 2, 9]\n",
    "result = plusOne(digits)\n",
    "print(result)\n"
   ]
  },
  {
   "cell_type": "code",
   "execution_count": null,
   "id": "fc82e948",
   "metadata": {},
   "outputs": [],
   "source": []
  }
 ],
 "metadata": {
  "kernelspec": {
   "display_name": "Python 3 (ipykernel)",
   "language": "python",
   "name": "python3"
  },
  "language_info": {
   "codemirror_mode": {
    "name": "ipython",
    "version": 3
   },
   "file_extension": ".py",
   "mimetype": "text/x-python",
   "name": "python",
   "nbconvert_exporter": "python",
   "pygments_lexer": "ipython3",
   "version": "3.9.13"
  }
 },
 "nbformat": 4,
 "nbformat_minor": 5
}
